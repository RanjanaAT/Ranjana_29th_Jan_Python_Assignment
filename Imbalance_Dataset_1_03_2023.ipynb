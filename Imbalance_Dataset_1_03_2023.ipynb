{
  "nbformat": 4,
  "nbformat_minor": 0,
  "metadata": {
    "colab": {
      "provenance": [],
      "authorship_tag": "ABX9TyMEuoPVGhENMDTmCX+Z3FhE",
      "include_colab_link": true
    },
    "kernelspec": {
      "name": "python3",
      "display_name": "Python 3"
    },
    "language_info": {
      "name": "python"
    }
  },
  "cells": [
    {
      "cell_type": "markdown",
      "metadata": {
        "id": "view-in-github",
        "colab_type": "text"
      },
      "source": [
        "<a href=\"https://colab.research.google.com/github/RanjanaAT/Ranjana_29th_Jan_Python_Assignment/blob/main/Imbalance_Dataset_1_03_2023.ipynb\" target=\"_parent\"><img src=\"https://colab.research.google.com/assets/colab-badge.svg\" alt=\"Open In Colab\"/></a>"
      ]
    },
    {
      "cell_type": "markdown",
      "source": [
        "## **Imbalance Dataset**"
      ],
      "metadata": {
        "id": "L6-UbN1m5Wwx"
      }
    },
    {
      "cell_type": "code",
      "execution_count": 5,
      "metadata": {
        "id": "pqS9lhkF5NlK"
      },
      "outputs": [],
      "source": [
        "import numpy as np\n",
        "import pandas as pd\n",
        "import seaborn as sns\n",
        "from sklearn import preprocessing\n",
        "from collections import Counter"
      ]
    },
    {
      "cell_type": "code",
      "source": [
        "data = pd.read_csv(\"/content/train_modified.csv\")\n",
        "data.head()"
      ],
      "metadata": {
        "colab": {
          "base_uri": "https://localhost:8080/",
          "height": 299
        },
        "id": "_yyY24lN55jV",
        "outputId": "1e39b1bc-be1e-4973-d28a-cdd111eea75c"
      },
      "execution_count": 6,
      "outputs": [
        {
          "output_type": "execute_result",
          "data": {
            "text/plain": [
              "   Disbursed  Existing_EMI  ID  Loan_Amount_Applied  Loan_Tenure_Applied  \\\n",
              "0        0.0           0.0   0             300000.0                  5.0   \n",
              "1        0.0           0.0   2             200000.0                  2.0   \n",
              "2        0.0           0.0   5             600000.0                  4.0   \n",
              "3        0.0           0.0   6            1000000.0                  5.0   \n",
              "4        0.0       25000.0   7             500000.0                  2.0   \n",
              "\n",
              "   Monthly_Income  Var4  Var5        age  EMI_Loan_Submitted_missing  ...  \\\n",
              "0           20000     1     0  41.713895                           1  ...   \n",
              "1           35000     3    13  34.338125                           0  ...   \n",
              "2           22500     1     0  38.329911                           1  ...   \n",
              "3           35000     3    10  32.191650                           1  ...   \n",
              "4          100000     3    17  35.975359                           1  ...   \n",
              "\n",
              "   Var1_16  Var1_17  Var1_18  Var2_0  Var2_1  Var2_2  Var2_3  Var2_4  Var2_5  \\\n",
              "0      0.0      0.0      0.0     0.0     0.0     0.0     0.0     0.0     0.0   \n",
              "1      0.0      0.0      0.0     0.0     0.0     0.0     0.0     0.0     0.0   \n",
              "2      0.0      0.0      0.0     0.0     1.0     0.0     0.0     0.0     0.0   \n",
              "3      0.0      0.0      0.0     0.0     1.0     0.0     0.0     0.0     0.0   \n",
              "4      0.0      0.0      0.0     0.0     1.0     0.0     0.0     0.0     0.0   \n",
              "\n",
              "   Var2_6  \n",
              "0     1.0  \n",
              "1     1.0  \n",
              "2     0.0  \n",
              "3     0.0  \n",
              "4     0.0  \n",
              "\n",
              "[5 rows x 51 columns]"
            ],
            "text/html": [
              "\n",
              "  <div id=\"df-ebb2a2f5-697a-400a-a85a-691df9618fd2\">\n",
              "    <div class=\"colab-df-container\">\n",
              "      <div>\n",
              "<style scoped>\n",
              "    .dataframe tbody tr th:only-of-type {\n",
              "        vertical-align: middle;\n",
              "    }\n",
              "\n",
              "    .dataframe tbody tr th {\n",
              "        vertical-align: top;\n",
              "    }\n",
              "\n",
              "    .dataframe thead th {\n",
              "        text-align: right;\n",
              "    }\n",
              "</style>\n",
              "<table border=\"1\" class=\"dataframe\">\n",
              "  <thead>\n",
              "    <tr style=\"text-align: right;\">\n",
              "      <th></th>\n",
              "      <th>Disbursed</th>\n",
              "      <th>Existing_EMI</th>\n",
              "      <th>ID</th>\n",
              "      <th>Loan_Amount_Applied</th>\n",
              "      <th>Loan_Tenure_Applied</th>\n",
              "      <th>Monthly_Income</th>\n",
              "      <th>Var4</th>\n",
              "      <th>Var5</th>\n",
              "      <th>age</th>\n",
              "      <th>EMI_Loan_Submitted_missing</th>\n",
              "      <th>...</th>\n",
              "      <th>Var1_16</th>\n",
              "      <th>Var1_17</th>\n",
              "      <th>Var1_18</th>\n",
              "      <th>Var2_0</th>\n",
              "      <th>Var2_1</th>\n",
              "      <th>Var2_2</th>\n",
              "      <th>Var2_3</th>\n",
              "      <th>Var2_4</th>\n",
              "      <th>Var2_5</th>\n",
              "      <th>Var2_6</th>\n",
              "    </tr>\n",
              "  </thead>\n",
              "  <tbody>\n",
              "    <tr>\n",
              "      <th>0</th>\n",
              "      <td>0.0</td>\n",
              "      <td>0.0</td>\n",
              "      <td>0</td>\n",
              "      <td>300000.0</td>\n",
              "      <td>5.0</td>\n",
              "      <td>20000</td>\n",
              "      <td>1</td>\n",
              "      <td>0</td>\n",
              "      <td>41.713895</td>\n",
              "      <td>1</td>\n",
              "      <td>...</td>\n",
              "      <td>0.0</td>\n",
              "      <td>0.0</td>\n",
              "      <td>0.0</td>\n",
              "      <td>0.0</td>\n",
              "      <td>0.0</td>\n",
              "      <td>0.0</td>\n",
              "      <td>0.0</td>\n",
              "      <td>0.0</td>\n",
              "      <td>0.0</td>\n",
              "      <td>1.0</td>\n",
              "    </tr>\n",
              "    <tr>\n",
              "      <th>1</th>\n",
              "      <td>0.0</td>\n",
              "      <td>0.0</td>\n",
              "      <td>2</td>\n",
              "      <td>200000.0</td>\n",
              "      <td>2.0</td>\n",
              "      <td>35000</td>\n",
              "      <td>3</td>\n",
              "      <td>13</td>\n",
              "      <td>34.338125</td>\n",
              "      <td>0</td>\n",
              "      <td>...</td>\n",
              "      <td>0.0</td>\n",
              "      <td>0.0</td>\n",
              "      <td>0.0</td>\n",
              "      <td>0.0</td>\n",
              "      <td>0.0</td>\n",
              "      <td>0.0</td>\n",
              "      <td>0.0</td>\n",
              "      <td>0.0</td>\n",
              "      <td>0.0</td>\n",
              "      <td>1.0</td>\n",
              "    </tr>\n",
              "    <tr>\n",
              "      <th>2</th>\n",
              "      <td>0.0</td>\n",
              "      <td>0.0</td>\n",
              "      <td>5</td>\n",
              "      <td>600000.0</td>\n",
              "      <td>4.0</td>\n",
              "      <td>22500</td>\n",
              "      <td>1</td>\n",
              "      <td>0</td>\n",
              "      <td>38.329911</td>\n",
              "      <td>1</td>\n",
              "      <td>...</td>\n",
              "      <td>0.0</td>\n",
              "      <td>0.0</td>\n",
              "      <td>0.0</td>\n",
              "      <td>0.0</td>\n",
              "      <td>1.0</td>\n",
              "      <td>0.0</td>\n",
              "      <td>0.0</td>\n",
              "      <td>0.0</td>\n",
              "      <td>0.0</td>\n",
              "      <td>0.0</td>\n",
              "    </tr>\n",
              "    <tr>\n",
              "      <th>3</th>\n",
              "      <td>0.0</td>\n",
              "      <td>0.0</td>\n",
              "      <td>6</td>\n",
              "      <td>1000000.0</td>\n",
              "      <td>5.0</td>\n",
              "      <td>35000</td>\n",
              "      <td>3</td>\n",
              "      <td>10</td>\n",
              "      <td>32.191650</td>\n",
              "      <td>1</td>\n",
              "      <td>...</td>\n",
              "      <td>0.0</td>\n",
              "      <td>0.0</td>\n",
              "      <td>0.0</td>\n",
              "      <td>0.0</td>\n",
              "      <td>1.0</td>\n",
              "      <td>0.0</td>\n",
              "      <td>0.0</td>\n",
              "      <td>0.0</td>\n",
              "      <td>0.0</td>\n",
              "      <td>0.0</td>\n",
              "    </tr>\n",
              "    <tr>\n",
              "      <th>4</th>\n",
              "      <td>0.0</td>\n",
              "      <td>25000.0</td>\n",
              "      <td>7</td>\n",
              "      <td>500000.0</td>\n",
              "      <td>2.0</td>\n",
              "      <td>100000</td>\n",
              "      <td>3</td>\n",
              "      <td>17</td>\n",
              "      <td>35.975359</td>\n",
              "      <td>1</td>\n",
              "      <td>...</td>\n",
              "      <td>0.0</td>\n",
              "      <td>0.0</td>\n",
              "      <td>0.0</td>\n",
              "      <td>0.0</td>\n",
              "      <td>1.0</td>\n",
              "      <td>0.0</td>\n",
              "      <td>0.0</td>\n",
              "      <td>0.0</td>\n",
              "      <td>0.0</td>\n",
              "      <td>0.0</td>\n",
              "    </tr>\n",
              "  </tbody>\n",
              "</table>\n",
              "<p>5 rows × 51 columns</p>\n",
              "</div>\n",
              "      <button class=\"colab-df-convert\" onclick=\"convertToInteractive('df-ebb2a2f5-697a-400a-a85a-691df9618fd2')\"\n",
              "              title=\"Convert this dataframe to an interactive table.\"\n",
              "              style=\"display:none;\">\n",
              "        \n",
              "  <svg xmlns=\"http://www.w3.org/2000/svg\" height=\"24px\"viewBox=\"0 0 24 24\"\n",
              "       width=\"24px\">\n",
              "    <path d=\"M0 0h24v24H0V0z\" fill=\"none\"/>\n",
              "    <path d=\"M18.56 5.44l.94 2.06.94-2.06 2.06-.94-2.06-.94-.94-2.06-.94 2.06-2.06.94zm-11 1L8.5 8.5l.94-2.06 2.06-.94-2.06-.94L8.5 2.5l-.94 2.06-2.06.94zm10 10l.94 2.06.94-2.06 2.06-.94-2.06-.94-.94-2.06-.94 2.06-2.06.94z\"/><path d=\"M17.41 7.96l-1.37-1.37c-.4-.4-.92-.59-1.43-.59-.52 0-1.04.2-1.43.59L10.3 9.45l-7.72 7.72c-.78.78-.78 2.05 0 2.83L4 21.41c.39.39.9.59 1.41.59.51 0 1.02-.2 1.41-.59l7.78-7.78 2.81-2.81c.8-.78.8-2.07 0-2.86zM5.41 20L4 18.59l7.72-7.72 1.47 1.35L5.41 20z\"/>\n",
              "  </svg>\n",
              "      </button>\n",
              "      \n",
              "  <style>\n",
              "    .colab-df-container {\n",
              "      display:flex;\n",
              "      flex-wrap:wrap;\n",
              "      gap: 12px;\n",
              "    }\n",
              "\n",
              "    .colab-df-convert {\n",
              "      background-color: #E8F0FE;\n",
              "      border: none;\n",
              "      border-radius: 50%;\n",
              "      cursor: pointer;\n",
              "      display: none;\n",
              "      fill: #1967D2;\n",
              "      height: 32px;\n",
              "      padding: 0 0 0 0;\n",
              "      width: 32px;\n",
              "    }\n",
              "\n",
              "    .colab-df-convert:hover {\n",
              "      background-color: #E2EBFA;\n",
              "      box-shadow: 0px 1px 2px rgba(60, 64, 67, 0.3), 0px 1px 3px 1px rgba(60, 64, 67, 0.15);\n",
              "      fill: #174EA6;\n",
              "    }\n",
              "\n",
              "    [theme=dark] .colab-df-convert {\n",
              "      background-color: #3B4455;\n",
              "      fill: #D2E3FC;\n",
              "    }\n",
              "\n",
              "    [theme=dark] .colab-df-convert:hover {\n",
              "      background-color: #434B5C;\n",
              "      box-shadow: 0px 1px 3px 1px rgba(0, 0, 0, 0.15);\n",
              "      filter: drop-shadow(0px 1px 2px rgba(0, 0, 0, 0.3));\n",
              "      fill: #FFFFFF;\n",
              "    }\n",
              "  </style>\n",
              "\n",
              "      <script>\n",
              "        const buttonEl =\n",
              "          document.querySelector('#df-ebb2a2f5-697a-400a-a85a-691df9618fd2 button.colab-df-convert');\n",
              "        buttonEl.style.display =\n",
              "          google.colab.kernel.accessAllowed ? 'block' : 'none';\n",
              "\n",
              "        async function convertToInteractive(key) {\n",
              "          const element = document.querySelector('#df-ebb2a2f5-697a-400a-a85a-691df9618fd2');\n",
              "          const dataTable =\n",
              "            await google.colab.kernel.invokeFunction('convertToInteractive',\n",
              "                                                     [key], {});\n",
              "          if (!dataTable) return;\n",
              "\n",
              "          const docLinkHtml = 'Like what you see? Visit the ' +\n",
              "            '<a target=\"_blank\" href=https://colab.research.google.com/notebooks/data_table.ipynb>data table notebook</a>'\n",
              "            + ' to learn more about interactive tables.';\n",
              "          element.innerHTML = '';\n",
              "          dataTable['output_type'] = 'display_data';\n",
              "          await google.colab.output.renderOutput(dataTable, element);\n",
              "          const docLink = document.createElement('div');\n",
              "          docLink.innerHTML = docLinkHtml;\n",
              "          element.appendChild(docLink);\n",
              "        }\n",
              "      </script>\n",
              "    </div>\n",
              "  </div>\n",
              "  "
            ]
          },
          "metadata": {},
          "execution_count": 6
        }
      ]
    },
    {
      "cell_type": "code",
      "source": [
        "data.shape"
      ],
      "metadata": {
        "colab": {
          "base_uri": "https://localhost:8080/"
        },
        "id": "E3IX3vJ255mL",
        "outputId": "18e62d1c-4306-4460-ee14-e71657279712"
      },
      "execution_count": 7,
      "outputs": [
        {
          "output_type": "execute_result",
          "data": {
            "text/plain": [
              "(37650, 51)"
            ]
          },
          "metadata": {},
          "execution_count": 7
        }
      ]
    },
    {
      "cell_type": "code",
      "source": [
        "print(sorted(Counter(data['Disbursed']).item()))"
      ],
      "metadata": {
        "id": "TGwoiDKM55ow"
      },
      "execution_count": null,
      "outputs": []
    },
    {
      "cell_type": "code",
      "source": [
        "loan_app = data[data['Disbursed']==1]\n",
        "loan_ntapp = data[data['Disbursed']==0]"
      ],
      "metadata": {
        "id": "z36JwDR455q7"
      },
      "execution_count": 9,
      "outputs": []
    },
    {
      "cell_type": "code",
      "source": [
        "print(loan_app.shape,loan_ntapp.shape,data.shape)"
      ],
      "metadata": {
        "colab": {
          "base_uri": "https://localhost:8080/"
        },
        "id": "qWhNMTKV55tW",
        "outputId": "5e468b36-787f-46b7-868b-bcca77193d63"
      },
      "execution_count": 10,
      "outputs": [
        {
          "output_type": "stream",
          "name": "stdout",
          "text": [
            "(567, 51) (37083, 51) (37650, 51)\n"
          ]
        }
      ]
    },
    {
      "cell_type": "code",
      "source": [
        "X=data\n",
        "Y=data['Disbursed']"
      ],
      "metadata": {
        "id": "5fNdROcB55w2"
      },
      "execution_count": 11,
      "outputs": []
    },
    {
      "cell_type": "code",
      "source": [
        "X.drop('ID',axis=1,inplace=True)\n",
        "X.columns"
      ],
      "metadata": {
        "colab": {
          "base_uri": "https://localhost:8080/"
        },
        "id": "DDEoFD9wAMCW",
        "outputId": "da7253da-23fd-4c38-8b83-542b8fc4cc29"
      },
      "execution_count": 13,
      "outputs": [
        {
          "output_type": "execute_result",
          "data": {
            "text/plain": [
              "Index(['Disbursed', 'Existing_EMI', 'Loan_Amount_Applied',\n",
              "       'Loan_Tenure_Applied', 'Monthly_Income', 'Var4', 'Var5', 'age',\n",
              "       'EMI_Loan_Submitted_missing', 'Interest_Rate_Missing',\n",
              "       'Loan_Amount_Submitted_Missing', 'Loan_Tenure_Submitted_Missing',\n",
              "       'Processing_Fee_Missing', 'Device_Type_0', 'Device_Type_1',\n",
              "       'Filled_Form_0', 'Filled_Form_1', 'Gender_0', 'Gender_1',\n",
              "       'Mobile_Verified_0', 'Mobile_Verified_1', 'Source_0', 'Source_1',\n",
              "       'Source_2', 'Var1_0', 'Var1_1', 'Var1_2', 'Var1_3', 'Var1_4', 'Var1_5',\n",
              "       'Var1_6', 'Var1_7', 'Var1_8', 'Var1_9', 'Var1_10', 'Var1_11', 'Var1_12',\n",
              "       'Var1_13', 'Var1_14', 'Var1_15', 'Var1_16', 'Var1_17', 'Var1_18',\n",
              "       'Var2_0', 'Var2_1', 'Var2_2', 'Var2_3', 'Var2_4', 'Var2_5', 'Var2_6'],\n",
              "      dtype='object')"
            ]
          },
          "metadata": {},
          "execution_count": 13
        }
      ]
    },
    {
      "cell_type": "code",
      "source": [
        "X.drop('Disbursed',axis=1,inplace=True)"
      ],
      "metadata": {
        "id": "gH-JAwW4AME9"
      },
      "execution_count": 14,
      "outputs": []
    },
    {
      "cell_type": "markdown",
      "source": [
        "### #pip install imbalance"
      ],
      "metadata": {
        "id": "YIlQfpcdAlPX"
      }
    },
    {
      "cell_type": "code",
      "source": [
        "from imblearn import under_sampling, over_sampling"
      ],
      "metadata": {
        "id": "3wx5QvVzAMH2"
      },
      "execution_count": 15,
      "outputs": []
    },
    {
      "cell_type": "code",
      "source": [
        "from imblearn.over_sampling import RandomOverSampler\n",
        "ros = RandomOverSampler(random_state=0)\n",
        "X_resampled, y_resampled = ros.fit_resample(X, Y)\n",
        "print(sorted(Counter(y_resampled).items()),y_resampled.shape)"
      ],
      "metadata": {
        "colab": {
          "base_uri": "https://localhost:8080/"
        },
        "id": "0X_K61buAMLa",
        "outputId": "4d3312a9-4ff9-4798-d1a7-87fa099d2df7"
      },
      "execution_count": 18,
      "outputs": [
        {
          "output_type": "stream",
          "name": "stdout",
          "text": [
            "[(0.0, 37083), (1.0, 37083)] (74166,)\n"
          ]
        }
      ]
    },
    {
      "cell_type": "code",
      "source": [
        "from imblearn.under_sampling import RandomUnderSampler\n",
        "\n",
        "rus = RandomUnderSampler(random_state=0)\n",
        "X_resampled, y_resampled = rus.fit_resample(X,Y)\n",
        "print(sorted(Counter(y_resampled).items()),y_resampled.shape)"
      ],
      "metadata": {
        "colab": {
          "base_uri": "https://localhost:8080/"
        },
        "id": "u6IGRQ1EAMRw",
        "outputId": "cb99d7a7-e833-47ae-ed5b-457879260943"
      },
      "execution_count": 19,
      "outputs": [
        {
          "output_type": "stream",
          "name": "stdout",
          "text": [
            "[(0.0, 567), (1.0, 567)] (1134,)\n"
          ]
        }
      ]
    },
    {
      "cell_type": "code",
      "source": [],
      "metadata": {
        "id": "mSVF04YdC4DL"
      },
      "execution_count": null,
      "outputs": []
    },
    {
      "cell_type": "code",
      "source": [],
      "metadata": {
        "id": "IO9GIpDfC4Gd"
      },
      "execution_count": null,
      "outputs": []
    },
    {
      "cell_type": "code",
      "source": [],
      "metadata": {
        "id": "ayM4mlApC4J-"
      },
      "execution_count": null,
      "outputs": []
    },
    {
      "cell_type": "code",
      "source": [],
      "metadata": {
        "id": "Eoehu5ZGC4Q7"
      },
      "execution_count": null,
      "outputs": []
    },
    {
      "cell_type": "code",
      "source": [],
      "metadata": {
        "id": "Gbe7aKf0C4UQ"
      },
      "execution_count": null,
      "outputs": []
    },
    {
      "cell_type": "code",
      "source": [],
      "metadata": {
        "id": "3JsUf6Z-C4Xb"
      },
      "execution_count": null,
      "outputs": []
    },
    {
      "cell_type": "code",
      "source": [],
      "metadata": {
        "id": "vpAxJiW-C4bB"
      },
      "execution_count": null,
      "outputs": []
    }
  ]
}